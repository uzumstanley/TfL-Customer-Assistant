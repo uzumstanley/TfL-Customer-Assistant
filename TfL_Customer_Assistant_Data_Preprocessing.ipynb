{
  "cells": [
    {
      "cell_type": "code",
      "source": [
        "#from google.colab import files\n",
        "#files.upload()"
      ],
      "metadata": {
        "id": "k77iVAG4dOx-"
      },
      "execution_count": 18,
      "outputs": []
    },
    {
      "cell_type": "code",
      "source": [
        "!pip install -U -q PyDrive"
      ],
      "metadata": {
        "id": "3N2S9c5GjzwX"
      },
      "execution_count": 6,
      "outputs": []
    },
    {
      "cell_type": "code",
      "execution_count": 8,
      "metadata": {
        "id": "I2jUZDyQRVU8",
        "colab": {
          "base_uri": "https://localhost:8080/"
        },
        "outputId": "19f5b069-2fc2-4323-8c78-28966716c947"
      },
      "outputs": [
        {
          "output_type": "stream",
          "name": "stdout",
          "text": [
            "✅ Text extracted and saved as /content/drive/MyDrive/APPLICATION/TfL_Traffic_Data/tfl_raw_text.txt\n"
          ]
        }
      ],
      "source": [
        "import requests\n",
        "from bs4 import BeautifulSoup\n",
        "import re\n",
        "import os\n",
        "from pydrive.auth import GoogleAuth\n",
        "from pydrive.drive import GoogleDrive\n",
        "from google.colab import files # Import files for uploading\n",
        "\n",
        "# Function to extract text from a URL\n",
        "def extract_text_from_url(url):\n",
        "    response = requests.get(url)\n",
        "    soup = BeautifulSoup(response.text, \"html.parser\")\n",
        "\n",
        "    # Remove scripts and styles\n",
        "    for script in soup([\"script\", \"style\"]):\n",
        "        script.extract()\n",
        "\n",
        "    text = soup.get_text(separator=\" \")  # Get plain text\n",
        "    text = re.sub(r\"\\s+\", \" \", text).strip()  # Normalize whitespace\n",
        "    return text\n",
        "\n",
        "# TfL Website URL\n",
        "tfl_url = \"https://tfl.gov.uk\"\n",
        "tfl_text = extract_text_from_url(tfl_url)\n",
        "\n",
        "# Save text to file\n",
        "file_path = \"/content/drive/MyDrive/APPLICATION/TfL_Traffic_Data/tfl_raw_text.txt\"\n",
        "with open(file_path, \"w\", encoding=\"utf-8\") as file:\n",
        "    file.write(tfl_text)\n",
        "\n",
        "print(f\"✅ Text extracted and saved as {file_path}\")\n",
        "\n"
      ]
    },
    {
      "cell_type": "markdown",
      "source": [
        "## Data Preprocessing"
      ],
      "metadata": {
        "id": "ZrpRup7lmQ1L"
      }
    },
    {
      "cell_type": "code",
      "source": [
        "import os\n",
        "import re\n",
        "import json\n",
        "import nltk\n",
        "from nltk.tokenize import sent_tokenize\n",
        "from langchain.text_splitter import RecursiveCharacterTextSplitter\n",
        "from google.colab import drive  # Use only if running in Google Colab\n",
        "\n",
        "# Define file paths\n",
        "drive_path = \"/content/drive/MyDrive/APPLICATION/TfL_Traffic_Data/tfl_raw_text.txt\"\n",
        "output_path = \"/content/drive/MyDrive/APPLICATION/TfL_Traffic_Data/tfl_cleaned_chunks.json\"\n",
        "\n",
        "# Step 2: Load raw TfL text data\n",
        "with open(drive_path, \"r\", encoding=\"utf-8\") as file:\n",
        "    raw_text = file.read()\n",
        "\n",
        "\n"
      ],
      "metadata": {
        "id": "e0S5-IxASJps"
      },
      "execution_count": 9,
      "outputs": []
    },
    {
      "cell_type": "code",
      "source": [
        "drive_path"
      ],
      "metadata": {
        "colab": {
          "base_uri": "https://localhost:8080/",
          "height": 34
        },
        "id": "2hfd0Kr9nsx5",
        "outputId": "e0803e89-de28-4616-f4c6-f9442cff3063"
      },
      "execution_count": 10,
      "outputs": [
        {
          "output_type": "execute_result",
          "data": {
            "text/plain": [
              "'/content/drive/MyDrive/APPLICATION/TfL_Traffic_Data/tfl_raw_text.txt'"
            ],
            "application/vnd.google.colaboratory.intrinsic+json": {
              "type": "string"
            }
          },
          "metadata": {},
          "execution_count": 10
        }
      ]
    },
    {
      "cell_type": "code",
      "source": [
        "raw_text"
      ],
      "metadata": {
        "colab": {
          "base_uri": "https://localhost:8080/",
          "height": 116
        },
        "id": "dDB7cOikn8ys",
        "outputId": "cd0807b6-9776-43d7-be86-0bd57f93fed1"
      },
      "execution_count": 11,
      "outputs": [
        {
          "output_type": "execute_result",
          "data": {
            "text/plain": [
              "\"Keeping London moving - Transport for London Skip to navigation Skip to content Skip to footer Transport for London Search the site Fares Help & contacts Maps Plan a journey Status updates Travel information Improvements & projects Safety Stations, stops & piers Timetables Transport accessibility Visiting London Ways to get around Buses Coaches Cycling Dial-a-Ride DLR Driving Elizabeth line IFS Cloud Cable Car London Overground River Taxis & minicabs Trams Tube Walking Quick links Contactless and Oyster account Refunds and replacements Pay to drive in London Travel tools Plan a journey Journey preferences From location To location Leaving Arriving Date of departure Today Tomorrow Tue 04 Feb Wed 05 Feb Thu 06 Feb Fri 07 Feb Sat 08 Feb Sun 09 Feb Mon 10 Feb Tue 11 Feb Wed 12 Feb Thu 13 Feb Fri 14 Feb Sat 15 Feb Sun 16 Feb Mon 17 Feb Tue 18 Feb Wed 19 Feb Thu 20 Feb Fri 21 Feb Sat 22 Feb Sun 23 Feb Mon 24 Feb Tue 25 Feb Wed 26 Feb Thu 27 Feb Fri 28 Feb Sat 01 Mar Sun 02 Mar Mon 03 Mar Time 00:00 00:15 00:30 00:45 01:00 01:15 01:30 01:45 02:00 02:15 02:30 02:45 02:58 03:00 03:15 03:30 03:45 04:00 04:15 04:30 04:45 05:00 05:15 05:30 05:45 06:00 06:15 06:30 06:45 07:00 07:15 07:30 07:45 08:00 08:15 08:30 08:45 09:00 09:15 09:30 09:45 10:00 10:15 10:30 10:45 11:00 11:15 11:30 11:45 12:00 12:15 12:30 12:45 13:00 13:15 13:30 13:45 14:00 14:15 14:30 14:45 15:00 15:15 15:30 15:45 16:00 16:15 16:30 16:45 17:00 17:15 17:30 17:45 18:00 18:15 18:30 18:45 19:00 19:15 19:30 19:45 20:00 20:15 20:30 20:45 21:00 21:15 21:30 21:45 22:00 22:15 22:30 22:45 23:00 23:15 23:30 23:45 More options Public transport Cycling Walking Travel by Travel by select all deselect all Travelling by Bus Tube National Rail DLR London Overground Elizabeth line River Bus Tram IFS Cloud Cable Car Coach For cycling journeys, I want to Use Cycle Hire Cycle directly to my destination My walking speed is Slow Average Fast Show me The fastest routes Routes with fewest changes Routes with least walking Access options No accessibility requirement Use escalators, not stairs Use stairs, not escalators Step-free to platform only Full step-free access Preferences I only want to walk for a maximum of 5 mins 10 mins 15 mins 20 mins 25 mins 30 mins 35 mins 40 mins 45 mins 50 mins 55 mins 60 mins My walking speed is Slow Average Fast Travel via Outside London Search outside London Optimise for walking I'd rather walk if it makes my journey quicker Please note: as you have rejected the Functionality Cookie, the site will be unable to remember your search preferences. Please click here to revisit your cookie selections if you wish to enable this functionality. Save these preferences for future visits My Journeys & recents Live arrivals Maps Nearby My Lines Edit Service Board Sorry, service board information could not be retrieved. Service Board Service information is out of date. Please try reloading the page. View all statuses This weekend My Buses Edit Find a bus Search for Bus route or stop name My Roads Edit Service Board Sorry, service board information could not be retrieved. Service Board Service information is out of date. Please try reloading the page. View all reported incidents This weekend My River Buses Edit Service Board Sorry, service board information could not be retrieved. Service Board Service information is out of date. Please try reloading the page. View all statuses My IFS Cloud Cable Car Edit Service Board Sorry, service board information could not be retrieved. Service Board Service information is out of date. Please try reloading the page. View status Other Statuses Tube, DLR, London Overground, Elizabeth line and Tram Night Tube Service Waterloo & City Planned closure Waterloo & City line: service operates between 06:00 and 00:30, Monday to Friday only. There is no service on Saturdays, Sundays and on bank/public holidays. Replan your journey Close status Central Good service Jubilee Good service Northern Good service Piccadilly Good service Victoria Good service This weekend View all statuses Buses Search for stations, stops and piers (e.g. Bank) Traffic Transport For London Road Corridors - Service updates at 02/02/2025 02:58:38 Road corridor Status A1 No exceptional delays A10 No exceptional delays A12 No exceptional delays A13 No exceptional delays A2 No exceptional delays A20 No exceptional delays A21 No exceptional delays A23 No exceptional delays A24 No exceptional delays A3 No exceptional delays A316 No exceptional delays A4 No exceptional delays A40 No exceptional delays A41 No exceptional delays Blackwall Tunnel No exceptional delays Central London Red Routes No exceptional delays North Circular (A406) No exceptional delays South Circular (A205) No exceptional delays All road corridors No exceptional delays on all road corridors This weekend View all reported incidents River rb1 good service rb2 good service rb4 good service rb6 good service thames-river-services good service woolwich-ferry good service Good service on all lines View all statuses IFS Cloud Cable Car cable-car good service Good service on all lines View status National Rail Avanti West Coast Special service Gatwick Express Special service Island Line Special service Southern Minor delays Thameslink Minor delays c2c good service chiltern-railways good service crosscountry good service east-midlands-railway good service grand-central good service great-northern good service great-western-railway good service greater-anglia good service heathrow-express good service hull-trains good service london-north-eastern-railway good service lumo good service merseyrail good service northern-rail good service scotrail good service south-western-railway good service southeastern good service transpennine-express good service transport-for-wales good service west-midlands-trains good service Good service on all other lines View all statuses Night Tube launched in 2016 See more of our key improvements over the last 25 years 25 years of TfL 25 key improvements we've made to our network over the last 25 years Photocard applications All photocard applications are now open and you can request refunds where eligible Lambeth Bridge works Road closures from Thursday 30 January Oyster card logo Top up Oyster Congestion charge logo Congestion Charge Santander Cycles logo Santander Cycles IFS Cloud logo IFS Cloud Cable Car Major works and events Find out about works and events in London which may affect your journey Major works and events Report a crime or incident Sustainability Check the best times to travel TfL Go app Experience London blog Made by TfL blog Consultations Travel tools Modern slavery statement About TfL Help & contacts About TfL Careers Publications & reports Safety & security Social media & email updates Transparency Gift Shop Information for... Boroughs & communities Bus operators Business & advertisers Coach drivers Freight & servicing in London Investors Media Open data users Schools & young people Suppliers & contractors Taxi & private hire Urban planning & construction Mayor of London London Assembly London and Partners Metropolitan Police Service London Fire Brigade The Mayors Office of Policing and Crime Legal information Data sources Privacy & cookies Terms & conditions Digital accessibility Copyright TfL Close Favourites My Lines Edit my lines Service Board Sorry, service board information could not be retrieved. Service Board Service information is out of date. Please try reloading the page. View all statuses My Buses Edit my buses My Roads Edit my roads Service Board Sorry, service board information could not be retrieved. Service Board Service information is out of date. Please try reloading the page. View all reported incidents My River Buses Edit my river buses Service Board Sorry, service board information could not be retrieved. Service Board Service information is out of date. Please try reloading the page. View all statuses My IFS Cloud Cable Car Edit my IFS Cloud Cable Car Service Board Sorry, service board information could not be retrieved. Service Board Service information is out of date. Please try reloading the page. View status My Journeys Edit my journeys My Places Edit my places Add favourites for quick access to live status, journeys and places Lines Buses Roads River Buses IFS Cloud Cable Car Journeys Plan a journey and favourite it for quick access in the future Places Choose postcodes, stations and places for quick journey planning Close edit Favourites Favourite lines Done updating my favourites Bakerloo Central Circle District DLR Elizabeth line Hammersmith & City Jubilee Liberty Lioness Metropolitan Mildmay Northern Piccadilly Suffragette Tram Victoria Waterloo & City Weaver Windrush Favourite buses Done updating my favourites Add new bus Search Favourite roads Done updating my favourites A1 A10 A12 A13 A2 A20 A21 A23 A24 A3 A316 A4 A40 A41 Blackwall Tunnel Central London Red Routes North Circular (A406) South Circular (A205) Favourite river buses Done updating my favourites RB1 RB2 RB4 RB5 RB6 Woolwich Ferry Favourite IFS Cloud Cable Car Done updating my favourites IFS Cloud Cable Car Favourite journeys Done updating my favourites My places Done updating my favourites Edit label Add new place Done updating my favourites Existing place Add a Label Add a label Search Add places Places Choose postcodes, stations and places for quick journey planning Favicon Favourites updated View\""
            ],
            "application/vnd.google.colaboratory.intrinsic+json": {
              "type": "string"
            }
          },
          "metadata": {},
          "execution_count": 11
        }
      ]
    },
    {
      "cell_type": "code",
      "source": [
        "# Step 3: Clean the text\n",
        "import nltk\n",
        "nltk.download('punkt')  # Download tokenizer if not already available\n",
        "nltk.download('punkt_tab') # Download punkt_tab for sentence tokenization\n",
        "\n",
        "clean_text = re.sub(r\"http[s]?://\\S+\", \"\", raw_text)  # Remove links\n",
        "clean_text = re.sub(r\"\\s+\", \" \", clean_text)  # Normalize whitespace\n",
        "clean_text = re.sub(r\"[^\\w\\s.,!?-]\", \"\", clean_text)  # Remove unwanted symbols"
      ],
      "metadata": {
        "colab": {
          "base_uri": "https://localhost:8080/"
        },
        "id": "7fkNub8cSrla",
        "outputId": "f0504f12-a1bf-4a42-a140-8f7ba97a672c"
      },
      "execution_count": 15,
      "outputs": [
        {
          "output_type": "stream",
          "name": "stderr",
          "text": [
            "[nltk_data] Downloading package punkt to /root/nltk_data...\n",
            "[nltk_data]   Package punkt is already up-to-date!\n",
            "[nltk_data] Downloading package punkt_tab to /root/nltk_data...\n",
            "[nltk_data]   Unzipping tokenizers/punkt_tab.zip.\n"
          ]
        }
      ]
    },
    {
      "cell_type": "code",
      "source": [
        "# Step 4: Tokenize into sentences\n",
        "sentences = sent_tokenize(clean_text)\n",
        "# Step 5: Chunking into retrievable sections (512-1024 tokens per chunk)\n",
        "text_splitter = RecursiveCharacterTextSplitter(chunk_size=512, chunk_overlap=50)\n",
        "chunks = text_splitter.split_text(\"\\n\".join(sentences))\n",
        "\n",
        "\n"
      ],
      "metadata": {
        "id": "5UiKqD3DoYVO"
      },
      "execution_count": 16,
      "outputs": []
    },
    {
      "cell_type": "code",
      "source": [
        "# Step 6: Save processed data as JSON for embedding\n",
        "with open(output_path, \"w\", encoding=\"utf-8\") as outfile:\n",
        "    json.dump(chunks, outfile, indent=2)\n",
        "\n",
        "print(f\"✅ Preprocessing complete! {len(chunks)} chunks saved to Google Drive at: {output_path}\")"
      ],
      "metadata": {
        "colab": {
          "base_uri": "https://localhost:8080/"
        },
        "id": "6Zg3VBN4oanN",
        "outputId": "e6b4b689-374f-4ca7-b20d-d09abd911f6c"
      },
      "execution_count": 17,
      "outputs": [
        {
          "output_type": "stream",
          "name": "stdout",
          "text": [
            "✅ Preprocessing complete! 23 chunks saved to Google Drive at: /content/drive/MyDrive/APPLICATION/TfL_Traffic_Data/tfl_cleaned_chunks.json\n"
          ]
        }
      ]
    },
    {
      "cell_type": "code",
      "source": [],
      "metadata": {
        "id": "wOh_uPTQoaTY"
      },
      "execution_count": null,
      "outputs": []
    }
  ],
  "metadata": {
    "colab": {
      "provenance": []
    },
    "kernelspec": {
      "display_name": "Python 3",
      "name": "python3"
    },
    "language_info": {
      "name": "python"
    }
  },
  "nbformat": 4,
  "nbformat_minor": 0
}